{
  "nbformat": 4,
  "nbformat_minor": 0,
  "metadata": {
    "colab": {
      "provenance": []
    },
    "kernelspec": {
      "name": "python3",
      "display_name": "Python 3"
    },
    "language_info": {
      "name": "python"
    }
  },
  "cells": [
    {
      "cell_type": "code",
      "execution_count": 1,
      "metadata": {
        "colab": {
          "base_uri": "https://localhost:8080/"
        },
        "id": "m9o0gLiz3ZFy",
        "outputId": "a3deb580-bb40-48bf-b300-b32fa3fbef35"
      },
      "outputs": [
        {
          "output_type": "stream",
          "name": "stdout",
          "text": [
            "Cloning into 'gdpr-helpers'...\n",
            "remote: Enumerating objects: 293, done.\u001b[K\n",
            "remote: Counting objects: 100% (293/293), done.\u001b[K\n",
            "remote: Compressing objects: 100% (156/156), done.\u001b[K\n",
            "remote: Total 293 (delta 149), reused 263 (delta 126), pack-reused 0\u001b[K\n",
            "Receiving objects: 100% (293/293), 1.23 MiB | 4.81 MiB/s, done.\n",
            "Resolving deltas: 100% (149/149), done.\n"
          ]
        }
      ],
      "source": [
        "!git clone https://github.com/gretelai/gdpr-helpers.git"
      ]
    },
    {
      "cell_type": "code",
      "source": [
        "!cd gdpr-helpers; pip install -Uqq ."
      ],
      "metadata": {
        "colab": {
          "base_uri": "https://localhost:8080/"
        },
        "id": "KUKKT2D4AH5r",
        "outputId": "696eb0a4-8889-47d4-c5a6-ea0c73c61c2e"
      },
      "execution_count": 3,
      "outputs": [
        {
          "output_type": "stream",
          "name": "stdout",
          "text": [
            "  Preparing metadata (setup.py) ... \u001b[?25l\u001b[?25hdone\n",
            "\u001b[2K     \u001b[90m━━━━━━━━━━━━━━━━━━━━━━━━━━━━━━━━━━━━━━━━\u001b[0m \u001b[32m311.3/311.3 kB\u001b[0m \u001b[31m4.6 MB/s\u001b[0m eta \u001b[36m0:00:00\u001b[0m\n",
            "\u001b[2K     \u001b[90m━━━━━━━━━━━━━━━━━━━━━━━━━━━━━━━━━━━━━━━━\u001b[0m \u001b[32m96.6/96.6 kB\u001b[0m \u001b[31m13.2 MB/s\u001b[0m eta \u001b[36m0:00:00\u001b[0m\n",
            "\u001b[2K     \u001b[90m━━━━━━━━━━━━━━━━━━━━━━━━━━━━━━━━━━━━━━━━\u001b[0m \u001b[32m148.1/148.1 kB\u001b[0m \u001b[31m17.8 MB/s\u001b[0m eta \u001b[36m0:00:00\u001b[0m\n",
            "\u001b[2K     \u001b[90m━━━━━━━━━━━━━━━━━━━━━━━━━━━━━━━━━━━━━━━━\u001b[0m \u001b[32m1.6/1.6 MB\u001b[0m \u001b[31m38.3 MB/s\u001b[0m eta \u001b[36m0:00:00\u001b[0m\n",
            "\u001b[2K     \u001b[90m━━━━━━━━━━━━━━━━━━━━━━━━━━━━━━━━━━━━━━━━\u001b[0m \u001b[32m2.1/2.1 MB\u001b[0m \u001b[31m74.4 MB/s\u001b[0m eta \u001b[36m0:00:00\u001b[0m\n",
            "\u001b[2K     \u001b[90m━━━━━━━━━━━━━━━━━━━━━━━━━━━━━━━━━━━━━━━━\u001b[0m \u001b[32m3.1/3.1 MB\u001b[0m \u001b[31m73.0 MB/s\u001b[0m eta \u001b[36m0:00:00\u001b[0m\n",
            "\u001b[2K     \u001b[90m━━━━━━━━━━━━━━━━━━━━━━━━━━━━━━━━━━━━━━━━\u001b[0m \u001b[32m58.6/58.6 kB\u001b[0m \u001b[31m8.9 MB/s\u001b[0m eta \u001b[36m0:00:00\u001b[0m\n",
            "\u001b[2K     \u001b[90m━━━━━━━━━━━━━━━━━━━━━━━━━━━━━━━━━━━━━━━━\u001b[0m \u001b[32m143.8/143.8 kB\u001b[0m \u001b[31m22.4 MB/s\u001b[0m eta \u001b[36m0:00:00\u001b[0m\n",
            "\u001b[2K     \u001b[90m━━━━━━━━━━━━━━━━━━━━━━━━━━━━━━━━━━━━━━━━\u001b[0m \u001b[32m60.1/60.1 kB\u001b[0m \u001b[31m10.0 MB/s\u001b[0m eta \u001b[36m0:00:00\u001b[0m\n",
            "\u001b[2K     \u001b[90m━━━━━━━━━━━━━━━━━━━━━━━━━━━━━━━━━━━━━━━━\u001b[0m \u001b[32m106.1/106.1 kB\u001b[0m \u001b[31m17.3 MB/s\u001b[0m eta \u001b[36m0:00:00\u001b[0m\n",
            "\u001b[2K     \u001b[90m━━━━━━━━━━━━━━━━━━━━━━━━━━━━━━━━━━━━━━━━\u001b[0m \u001b[32m105.7/105.7 kB\u001b[0m \u001b[31m16.8 MB/s\u001b[0m eta \u001b[36m0:00:00\u001b[0m\n",
            "\u001b[2K     \u001b[90m━━━━━━━━━━━━━━━━━━━━━━━━━━━━━━━━━━━━━━━━\u001b[0m \u001b[32m58.4/58.4 kB\u001b[0m \u001b[31m9.0 MB/s\u001b[0m eta \u001b[36m0:00:00\u001b[0m\n",
            "\u001b[?25h  Building wheel for gdpr-helpers (setup.py) ... \u001b[?25l\u001b[?25hdone\n",
            "\u001b[31mERROR: pip's dependency resolver does not currently take into account all the packages that are installed. This behaviour is the source of the following dependency conflicts.\n",
            "bigframes 1.6.0 requires tabulate>=0.9, but you have tabulate 0.8.9 which is incompatible.\u001b[0m\u001b[31m\n",
            "\u001b[0m"
          ]
        }
      ]
    },
    {
      "cell_type": "code",
      "source": [
        "import os\n",
        "if not os.getcwd().endswith('gdpr-helpers'):\n",
        "    os.chdir('gdpr-helpers')"
      ],
      "metadata": {
        "id": "SGC_m__NAiTO"
      },
      "execution_count": 4,
      "outputs": []
    },
    {
      "cell_type": "code",
      "source": [
        "import glob\n",
        "from gdpr_helpers import Anonymizer\n",
        "\n",
        "search_pattern = \"data/adventure-works-bike-buying.csv\""
      ],
      "metadata": {
        "id": "YIQ_MfhQArW2"
      },
      "execution_count": 5,
      "outputs": []
    },
    {
      "cell_type": "code",
      "source": [
        "am = Anonymizer(\n",
        "    project_name=\"gdpr-workflow\",\n",
        "    run_mode=\"cloud\",\n",
        "    transforms_config=\"src/config/transforms_config.yaml\",\n",
        "    synthetics_config=\"src/config/synthetics_config.yaml\",\n",
        "    endpoint=\"https://api.gretel.cloud\"\n",
        "    )"
      ],
      "metadata": {
        "colab": {
          "base_uri": "https://localhost:8080/"
        },
        "id": "q_BZyX96Avgr",
        "outputId": "884a7c96-5448-438b-fa83-ba63604fa0d9"
      },
      "execution_count": 6,
      "outputs": [
        {
          "output_type": "stream",
          "name": "stdout",
          "text": [
            "Gretel API Key: ··········\n",
            "Caching Gretel config to disk.\n",
            "Using endpoint https://api.gretel.cloud\n",
            "Logged in as mauryaanoop3@gmail.com ✅\n",
            "Follow along with model training at: https://console.gretel.ai/proj_2gg8vDTEQsR5BMY058piqmp7mLw\n"
          ]
        }
      ]
    },
    {
      "cell_type": "code",
      "source": [
        "for dataset_path in glob.glob(search_pattern):\n",
        "    am.anonymize(dataset_path=dataset_path)"
      ],
      "metadata": {
        "colab": {
          "base_uri": "https://localhost:8080/"
        },
        "id": "c5EdejH_AyX0",
        "outputId": "ecdc725d-b9b8-4510-8fbb-65ef4cb5e491"
      },
      "execution_count": null,
      "outputs": [
        {
          "output_type": "stream",
          "name": "stdout",
          "text": [
            "Anonymizing 'data/adventure-works-bike-buying.csv'\n",
            "Warning: Found NaN values in training data columns: ['Title', 'MiddleName', 'Suffix', 'AddressLine2']. Replacing NaN values with ''.\n"
          ]
        },
        {
          "output_type": "stream",
          "name": "stderr",
          "text": [
            "Model creation complete!: : 13it [00:25,  2.00s/it]\n",
            "Transform - Job completed: : 29it [00:36,  1.26s/it]\n"
          ]
        },
        {
          "output_type": "stream",
          "name": "stdout",
          "text": [
            "\n",
            "\n",
            "Named Entity Recognition\n",
            "Processing time: 5.129 seconds\n",
            "Samples: 100 records\n",
            "Columns: 24 columns\n",
            "\n",
            "Entities detected\n",
            "| column_name          |   count |   approx_distinct_count |   missing_count | entities_detected    |\n",
            "|:---------------------|--------:|------------------------:|----------------:|:---------------------|\n",
            "| CustomerID           |     100 |                     100 |               0 |                      |\n",
            "| Title                |       0 |                       0 |             100 |                      |\n",
            "| FirstName            |     100 |                      93 |               0 | person_name          |\n",
            "| MiddleName           |      52 |                      15 |              48 |                      |\n",
            "| LastName             |     100 |                      84 |               0 | person_name          |\n",
            "| Suffix               |       0 |                       0 |             100 |                      |\n",
            "| AddressLine1         |     100 |                     100 |               0 | location             |\n",
            "| AddressLine2         |       2 |                       2 |              98 | location             |\n",
            "| City                 |     100 |                      61 |               0 | location             |\n",
            "| StateProvinceName    |     100 |                       9 |               0 | location             |\n",
            "| CountryRegionName    |     100 |                       3 |               0 | location             |\n",
            "| PostalCode           |     100 |                      60 |               0 |                      |\n",
            "| PhoneNumber          |     100 |                      79 |               0 | phone_number         |\n",
            "| BirthDate            |     100 |                     100 |               0 | datetime, birth_date |\n",
            "| Education            |     100 |                       5 |               0 |                      |\n",
            "| Occupation           |     100 |                       4 |               0 |                      |\n",
            "| Gender               |     100 |                       2 |               0 | gender               |\n",
            "| MaritalStatus        |     100 |                       2 |               0 |                      |\n",
            "| HomeOwnerFlag        |     100 |                       2 |               0 |                      |\n",
            "| NumberCarsOwned      |     100 |                       5 |               0 |                      |\n",
            "| NumberChildrenAtHome |     100 |                       6 |               0 |                      |\n",
            "| TotalChildren        |     100 |                       6 |               0 |                      |\n",
            "| YearlyIncome         |     100 |                     100 |               0 |                      |\n",
            "| BikeBuyer            |     100 |                       2 |               0 |                      |\n",
            "\n",
            "\n",
            "Transforms finished.\n",
            "Processing time: 20.543 seconds\n",
            "Record count: 16519\n",
            "\n",
            "Columns transformed\n",
            "| field_name        | transform_type   |   transformed_count |\n",
            "|:------------------|:-----------------|--------------------:|\n",
            "| City              | passthrough      |               16519 |\n",
            "| LastName          | fake             |               16519 |\n",
            "| MiddleName        | fake             |                9534 |\n",
            "| FirstName         | fake             |               16519 |\n",
            "| AddressLine1      | fake             |               16519 |\n",
            "| BirthDate         | dateshift        |               16519 |\n",
            "| PhoneNumber       | fake             |               16519 |\n",
            "| StateProvinceName | hash             |               16519 |\n",
            "| CountryRegionName | hash             |               16519 |\n",
            "| CustomerID        | hash             |               16519 |\n",
            "| AddressLine2      | fake             |                 276 |\n",
            "\n",
            "\n"
          ]
        },
        {
          "output_type": "stream",
          "name": "stderr",
          "text": [
            "Actgan - Job active: : 132it [02:45,  1.31s/it, epoch=77, loss_g=-2.4, loss_d=-0.448, loss_r=0.0264]"
          ]
        }
      ]
    },
    {
      "cell_type": "code",
      "source": [],
      "metadata": {
        "id": "aj7tXmH3A4fm"
      },
      "execution_count": null,
      "outputs": []
    }
  ]
}